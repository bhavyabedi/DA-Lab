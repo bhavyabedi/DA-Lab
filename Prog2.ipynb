{
 "cells": [
  {
   "cell_type": "code",
   "execution_count": null,
   "metadata": {},
   "outputs": [],
   "source": [
    "#### a. t-Test: one sample, two independent samples and Paired\n",
    "from scipy.stats import ttest_ind\n",
    "import pandas as pd\n",
    "import matplotlib.pyplot as plt\n",
    "# Load the dataset\n",
    "df = pd.read_csv('StudentsPerformance.csv')\n",
    "from scipy.stats import ttest_ind\n",
    "# Separate data for male students\n",
    "male_scores = df[df['gender'] == 'male']['math score']\n",
    "male_scores\n"
   ]
  },
  {
   "cell_type": "code",
   "execution_count": null,
   "metadata": {},
   "outputs": [],
   "source": [
    "#### a. t-Test: one sample, two independent samples and Paired\n",
    "from scipy.stats import ttest_ind\n",
    "import pandas as pd\n",
    "import matplotlib.pyplot as plt\n",
    "# Load the dataset\n",
    "df = pd.read_csv('StudentsPerformance.csv')\n",
    "from scipy.stats import ttest_ind\n",
    "# Separate data for male students\n",
    "female_score=df[df['gender']=='female']['math score']\n",
    "female_score\n",
    "\n"
   ]
  },
  {
   "cell_type": "code",
   "execution_count": null,
   "metadata": {},
   "outputs": [],
   "source": [
    "# Perform independent two-sample t-test\n",
    "\n",
    "from scipy.stats import ttest_ind\n",
    "import pandas as pd\n",
    "from scipy.stats import ttest_ind\n",
    "# Load the dataset\n",
    "df = pd.read_csv('StudentsPerformance.csv')\n",
    "\n",
    "male_scores=df[df['gender']=='male']['math score']\n",
    "female_scores=df[df['gender']=='female']['math score']\n",
    "\n",
    "t_statistic, p_value = ttest_ind(male_scores, female_scores)\n",
    "print(f'T-Statistic: {t_statistic}')\n",
    "print(f'P-Value: {p_value}')\n",
    "alpha = 0.05\n",
    "if p_value < alpha:\n",
    " print(\"There is a significant difference in math scores between male and female students.\")\n",
    "else:\n",
    " print(\"There is no significant difference in math scores between male and female students.\")\n"
   ]
  },
  {
   "cell_type": "code",
   "execution_count": null,
   "metadata": {},
   "outputs": [],
   "source": [
    "#PERFORM ANOVA: COMPARING MULTIPLE GROUPS\n",
    "\n",
    "import pandas as pd\n",
    "import numpy as np \n",
    "\n",
    "df=pd.read_csv('StudentsPerformance.csv')\n",
    "\n",
    "ethnicity_groups=df['ethnicity'].unique()\n",
    "\n",
    "ethnicity_data={ethnicity:df[df['ethnicity']==ethnicity]['math score'] for ethnicity in ethnicity_groups}\n",
    "ethnicity_data"
   ]
  },
  {
   "cell_type": "code",
   "execution_count": null,
   "metadata": {},
   "outputs": [],
   "source": [
    "#PERFORM ONE WAY ANOVA\n",
    "\n",
    "from scipy.stats import ttest_ind\n",
    "import pandas as pd\n",
    "import matplotlib.pyplot as plt\n",
    "from scipy.stats import ttest_ind\n",
    "from scipy.stats import f_oneway\n",
    "\n",
    "# Load the dataset\n",
    "df = pd.read_csv('StudentsPerformance.csv')\n",
    "f_statistics, p_value_anova=f_oneway(*ethnicity_data.values())\n",
    "print(f'F-Statistics={f_statistics}')\n",
    "print(f'P-Value Annova: {p_value_anova}')\n",
    "if p_value_anova < alpha:\n",
    " print(\"There is a significant difference in math scores among different ethnicities.\")\n",
    "else:\n",
    " print(\"There is no significant difference in math scores among different ethnicities.\")\n",
    "\n"
   ]
  }
 ],
 "metadata": {
  "kernelspec": {
   "display_name": "Python 3",
   "language": "python",
   "name": "python3"
  },
  "language_info": {
   "codemirror_mode": {
    "name": "ipython",
    "version": 3
   },
   "file_extension": ".py",
   "mimetype": "text/x-python",
   "name": "python",
   "nbconvert_exporter": "python",
   "pygments_lexer": "ipython3",
   "version": "3.12.1"
  }
 },
 "nbformat": 4,
 "nbformat_minor": 2
}
