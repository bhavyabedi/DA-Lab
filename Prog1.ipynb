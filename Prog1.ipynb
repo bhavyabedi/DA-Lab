{
 "cells": [
  {
   "cell_type": "code",
   "execution_count": null,
   "id": "5c091347",
   "metadata": {},
   "outputs": [],
   "source": [
    "#Import necessary libraries\n",
    "import pandas as pd\n",
    "# Load your dataset\n",
    "df = pd.read_csv('train.csv')\n",
    "### Calculate probability of an event\n",
    "probability_event = df['Survived'].value_counts() / len(df['Survived'])\n",
    "print(probability_event)\n"
   ]
  },
  {
   "cell_type": "code",
   "execution_count": null,
   "id": "6af4c82c",
   "metadata": {},
   "outputs": [],
   "source": [
    "#### b.Applications of Probability Distributions\n",
    "# Import necessary libraries\n",
    "import numpy as np\n",
    "import matplotlib.pyplot as plt\n",
    "from scipy.stats import norm\n",
    "import pandas as pd\n",
    "df = pd.read_csv('train.csv')\n",
    "## Drop missing values in the 'Age' column for simplicity\n",
    "titanic_data = df.dropna(subset=['Age'])\n",
    "# Plot the histogram\n",
    "plt.hist(df['Age'], bins=30, density=True, alpha=0.5, color='b',label='Age Distribution')"
   ]
  }
 ],
 "metadata": {
  "kernelspec": {
   "display_name": "Python 3 (ipykernel)",
   "language": "python",
   "name": "python3"
  },
  "language_info": {
   "codemirror_mode": {
    "name": "ipython",
    "version": 3
   },
   "file_extension": ".py",
   "mimetype": "text/x-python",
   "name": "python",
   "nbconvert_exporter": "python",
   "pygments_lexer": "ipython3",
   "version": "3.12.1"
  }
 },
 "nbformat": 4,
 "nbformat_minor": 5
}
