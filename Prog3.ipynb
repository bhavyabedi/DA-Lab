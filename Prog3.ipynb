{
 "cells": [
  {
   "cell_type": "code",
   "execution_count": null,
   "metadata": {},
   "outputs": [],
   "source": [
    "import pandas as pd\n",
    "import matplotlib.pyplot as plt\n",
    "# Load the Housedata dataset\n",
    "df = pd.read_csv('data.csv')\n",
    "#To display the Columns in dataset\n",
    "print(df.columns)\n",
    "# Display the first five rows of the dataset\n",
    "print(df.head())\n",
    "\n",
    "# Scatter diagram for two variables (e.g., sqft_living vs. price)\n",
    "plt.scatter(df['sqft_living'], df['price'])\n",
    "plt.title('Scatter Diagram: sqft_living vs. price')\n",
    "plt.xlabel('sqft_living')\n",
    "plt.ylabel('price')\n",
    "plt.show()"
   ]
  },
  {
   "cell_type": "code",
   "execution_count": null,
   "metadata": {},
   "outputs": [],
   "source": [
    "import pandas as pd\n",
    "import matplotlib.pyplot as plt\n",
    "# Load the Housedata dataset\n",
    "df = pd.read_csv('data.csv')\n",
    "# Scatter diagram for two variables (e.g., sqft_living vs. price)\n",
    "# Calculate the correlation coefficient\n",
    "correlation_coefficient = df['sqft_living'].corr(df['price'])\n",
    "print(f'Correlation Coefficient (sqft_living vs. price): {correlation_coefficient}')\n"
   ]
  },
  {
   "cell_type": "code",
   "execution_count": null,
   "metadata": {},
   "outputs": [],
   "source": [
    "import pandas as pd\n",
    "import numpy as np\n",
    "import statsmodels.api as sm\n",
    "# Load the Housedata dataset\n",
    "df = pd.read_csv('data.csv')\n",
    "\n",
    "\n",
    "# Scatter diagram for two variables (e.g., sqft_living vs. price)\n",
    "# Simple Linear Regression\n",
    "X_simple = sm.add_constant(df[['sqft_living']])\n",
    "y_simple = df['price']\n",
    "model_simple = sm.OLS(y_simple, X_simple).fit()\n",
    "9\n",
    "# Summary of the simple linear regression\n",
    "print(model_simple.summary())\n"
   ]
  },
  {
   "cell_type": "code",
   "execution_count": null,
   "metadata": {},
   "outputs": [],
   "source": [
    "import pandas as pd\n",
    "import numpy as np\n",
    "import matplotlib.pyplot as plt\n",
    "import statsmodels.api as sm\n",
    "# Load the Housedata dataset\n",
    "df = pd.read_csv('data.csv')\n",
    "\n",
    "# Multiple Linear Regression\n",
    "X_multi = sm.add_constant(df[['sqft_living', 'bedrooms', 'bathrooms']])\n",
    "y_multi = df['price']\n",
    "model_multi = sm.OLS(y_multi, X_multi).fit()\n",
    "# Summary of the multiple linear regression\n",
    "print(model_multi.summary())"
   ]
  },
  {
   "cell_type": "code",
   "execution_count": null,
   "metadata": {},
   "outputs": [],
   "source": [
    "import pandas as pd\n",
    "import statsmodels.api as sm\n",
    "# Load the Housedata dataset\n",
    "df = pd.read_csv('data.csv')\n",
    "\n",
    "# Prediction\n",
    "predictions_simple = model_simple.predict(X_simple)\n",
    "predictions_simple\n"
   ]
  },
  {
   "cell_type": "code",
   "execution_count": null,
   "metadata": {},
   "outputs": [],
   "source": [
    "import pandas as pd\n",
    "import statsmodels.api as sm\n",
    "# Load the Housedata dataset\n",
    "df = pd.read_csv('data.csv')\n",
    "\n",
    "# Prediction\n",
    "X_multi = sm.add_constant(df[['sqft_living', 'bedrooms', 'bathrooms']])\n",
    "y_multi = df['price']\n",
    "model_multi = sm.OLS(y_multi, X_multi).fit()\n",
    "predictions_multi = model_multi.predict(X_multi)\n",
    "predictions_multipredictions_multi = model_multi.predict(X_multi)\n",
    "predictions_multi\n"
   ]
  },
  {
   "cell_type": "code",
   "execution_count": null,
   "metadata": {},
   "outputs": [],
   "source": [
    "import pandas as pd\n",
    "import numpy as np\n",
    "import matplotlib.pyplot as plt\n",
    "import statsmodels.api as sm\n",
    "from sklearn.model_selection import train_test_split\n",
    "# Load the Housedata dataset\n",
    "df = pd.read_csv('data.csv')\n",
    "\n",
    "# Assuming 'waterfront' is a binary variable indicating waterfront or not\n",
    "X_logistic = df[['sqft_living', 'waterfront']]\n",
    "y_logistic = (df['price'] > df['price'].median()).astype(int)\n",
    "# Binary target variable\n",
    "X_train_log, X_test_log, y_train_log, y_test_log = train_test_split(X_logistic, y_logistic,\n",
    "test_size=0.2, random_state=42)\n",
    "print(X_logistic)\n",
    "print(y_logistic)\n",
    "\n"
   ]
  },
  {
   "cell_type": "code",
   "execution_count": null,
   "metadata": {},
   "outputs": [],
   "source": [
    "import pandas as pd\n",
    "from sklearn.linear_model import LogisticRegression\n",
    "# Load the Housedata dataset\n",
    "df = pd.read_csv('data.csv')\n",
    "\n",
    "# Logistic Regression\n",
    "logreg = LogisticRegression()\n",
    "logreg.fit(X_train_log, y_train_log)\n",
    "\n"
   ]
  },
  {
   "cell_type": "code",
   "execution_count": null,
   "metadata": {},
   "outputs": [],
   "source": [
    "import pandas as pd\n",
    "from sklearn.linear_model import LogisticRegression\n",
    "# Load the Housedata dataset\n",
    "df = pd.read_csv('data.csv')\n",
    "\n",
    "# Predictions\n",
    "y_pred_log = logreg.predict(X_test_log)\n",
    "y_pred_log\n",
    "\n"
   ]
  },
  {
   "cell_type": "code",
   "execution_count": null,
   "metadata": {},
   "outputs": [],
   "source": [
    "import pandas as pd\n",
    "from sklearn.metrics import accuracy_score, confusion_matrix\n",
    "# Load the Housedata dataset\n",
    "df = pd.read_csv('data.csv')\n",
    "\n",
    "# Model Evaluation\n",
    "accuracy_log = accuracy_score(y_test_log, y_pred_log)\n",
    "conf_matrix_log = confusion_matrix(y_test_log, y_pred_log)\n",
    "print(f'Accuracy (Logistic Regression): {accuracy_log}')\n",
    "print(f'Confusion Matrix (Logistic Regression): \\n{conf_matrix_log}')\n",
    "\n"
   ]
  }
 ],
 "metadata": {
  "kernelspec": {
   "display_name": "Python 3",
   "language": "python",
   "name": "python3"
  },
  "language_info": {
   "codemirror_mode": {
    "name": "ipython",
    "version": 3
   },
   "file_extension": ".py",
   "mimetype": "text/x-python",
   "name": "python",
   "nbconvert_exporter": "python",
   "pygments_lexer": "ipython3",
   "version": "3.12.1"
  }
 },
 "nbformat": 4,
 "nbformat_minor": 2
}
